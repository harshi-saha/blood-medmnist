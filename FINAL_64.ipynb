{
 "cells": [
  {
   "cell_type": "code",
   "execution_count": 1,
   "id": "2b461f25-8463-4a72-bc8a-dd59f695df9e",
   "metadata": {},
   "outputs": [
    {
     "name": "stderr",
     "output_type": "stream",
     "text": [
      "2025-04-28 12:07:46.479658: E external/local_xla/xla/stream_executor/cuda/cuda_fft.cc:467] Unable to register cuFFT factory: Attempting to register factory for plugin cuFFT when one has already been registered\n",
      "WARNING: All log messages before absl::InitializeLog() is called are written to STDERR\n",
      "E0000 00:00:1745856466.498648   19536 cuda_dnn.cc:8579] Unable to register cuDNN factory: Attempting to register factory for plugin cuDNN when one has already been registered\n",
      "E0000 00:00:1745856466.504465   19536 cuda_blas.cc:1407] Unable to register cuBLAS factory: Attempting to register factory for plugin cuBLAS when one has already been registered\n",
      "W0000 00:00:1745856466.519588   19536 computation_placer.cc:177] computation placer already registered. Please check linkage and avoid linking the same target more than once.\n",
      "W0000 00:00:1745856466.519609   19536 computation_placer.cc:177] computation placer already registered. Please check linkage and avoid linking the same target more than once.\n",
      "W0000 00:00:1745856466.519612   19536 computation_placer.cc:177] computation placer already registered. Please check linkage and avoid linking the same target more than once.\n",
      "W0000 00:00:1745856466.519614   19536 computation_placer.cc:177] computation placer already registered. Please check linkage and avoid linking the same target more than once.\n",
      "2025-04-28 12:07:46.524177: I tensorflow/core/platform/cpu_feature_guard.cc:210] This TensorFlow binary is optimized to use available CPU instructions in performance-critical operations.\n",
      "To enable the following instructions: AVX2 AVX512F FMA, in other operations, rebuild TensorFlow with the appropriate compiler flags.\n"
     ]
    }
   ],
   "source": [
    "import numpy as np\n",
    "import matplotlib.pyplot as plt\n",
    "import tensorflow as tf\n",
    "from tensorflow.keras.applications import ResNet50, ResNet101\n",
    "from tensorflow.keras import layers, Model\n",
    "from tensorflow.keras.preprocessing.image import ImageDataGenerator\n",
    "from tensorflow.keras.metrics import AUC\n",
    "from tensorflow.keras.utils import to_categorical\n",
    "from tensorflow.keras.optimizers import Adam\n",
    "\n",
    "from sklearn.metrics import classification_report, confusion_matrix\n",
    "from sklearn.utils.class_weight import compute_class_weight\n",
    "\n",
    "from medmnist import BloodMNIST"
   ]
  },
  {
   "cell_type": "code",
   "execution_count": 2,
   "id": "069cea24-ad48-4185-b239-f5f85ff25499",
   "metadata": {},
   "outputs": [],
   "source": [
    "import random\n",
    "import os\n",
    "\n",
    "def set_seed(seed=123):\n",
    "    os.environ['PYTHONHASHSEED'] = str(seed)  \n",
    "    random.seed(seed)                         \n",
    "    np.random.seed(seed)                      \n",
    "    tf.random.set_seed(seed)                  \n",
    "\n",
    "set_seed(123)"
   ]
  },
  {
   "cell_type": "markdown",
   "id": "4598ffda-3d85-4cb9-a8d4-bc270a08d4c1",
   "metadata": {},
   "source": [
    "## Resolution: 64x64"
   ]
  },
  {
   "cell_type": "markdown",
   "id": "717a0cf1-d755-476a-ab11-b21dddfd709b",
   "metadata": {},
   "source": [
    "### ResNet50_64"
   ]
  },
  {
   "cell_type": "code",
   "execution_count": 3,
   "id": "8af5471e-35c6-40bc-b869-98d09df93464",
   "metadata": {},
   "outputs": [],
   "source": [
    "# 1. Load dataset\n",
    "data_64 = np.load(\"bloodmnist_64.npz\")\n",
    "\n",
    "# 2. Extract images and labels\n",
    "train_images_64 = data_64[\"train_images\"]\n",
    "train_labels_64 = data_64[\"train_labels\"].flatten()\n",
    "\n",
    "val_images_64 = data_64[\"val_images\"]\n",
    "val_labels_64 = data_64[\"val_labels\"].flatten()\n",
    "\n",
    "test_images_64 = data_64[\"test_images\"]\n",
    "test_labels_64 = data_64[\"test_labels\"].flatten()"
   ]
  },
  {
   "cell_type": "code",
   "execution_count": 4,
   "id": "db609289-c39c-4d44-8db7-a8d780b8d315",
   "metadata": {},
   "outputs": [
    {
     "data": {
      "text/plain": [
       "['train_images',\n",
       " 'train_labels',\n",
       " 'val_images',\n",
       " 'val_labels',\n",
       " 'test_images',\n",
       " 'test_labels']"
      ]
     },
     "execution_count": 4,
     "metadata": {},
     "output_type": "execute_result"
    }
   ],
   "source": [
    "data_64.files"
   ]
  },
  {
   "cell_type": "code",
   "execution_count": 5,
   "id": "122ea30a-dcb6-4714-a183-12b781f3b647",
   "metadata": {},
   "outputs": [],
   "source": [
    "# 3. One-hot encode labels\n",
    "train_labels_cat_64 = to_categorical(train_labels_64, num_classes=8)\n",
    "val_labels_cat_64 = to_categorical(val_labels_64, num_classes=8)\n",
    "test_labels_cat_64 = to_categorical(test_labels_64, num_classes=8)"
   ]
  },
  {
   "cell_type": "code",
   "execution_count": 6,
   "id": "c19cf782-3e41-40d1-afaf-9943921e2e51",
   "metadata": {},
   "outputs": [],
   "source": [
    "# 4. Image generators\n",
    "train_datagen = ImageDataGenerator(\n",
    "    rescale=1./255,\n",
    "    shear_range=0.2,\n",
    "    zoom_range=0.2,\n",
    "    horizontal_flip=True\n",
    ")\n",
    "\n",
    "test_datagen = ImageDataGenerator(rescale=1./255)\n",
    "\n",
    "batch_size = 32 # increase batch size to 32 from 16\n",
    "\n",
    "train_generator_64 = train_datagen.flow(\n",
    "    train_images_64, \n",
    "    train_labels_cat_64,   \n",
    "    batch_size=batch_size\n",
    ")\n",
    "val_generator_64 = test_datagen.flow(\n",
    "    val_images_64,\n",
    "    val_labels_cat_64,\n",
    "    batch_size=batch_size\n",
    ")\n",
    "test_generator_64 = test_datagen.flow(\n",
    "    test_images_64,\n",
    "    test_labels_cat_64,\n",
    "    batch_size=batch_size,\n",
    "    shuffle=False\n",
    ")"
   ]
  },
  {
   "cell_type": "code",
   "execution_count": 7,
   "id": "fe029ba3-aaf8-476e-9dd2-14edf3038cf6",
   "metadata": {},
   "outputs": [
    {
     "name": "stderr",
     "output_type": "stream",
     "text": [
      "2025-04-28 12:08:25.901491: E external/local_xla/xla/stream_executor/cuda/cuda_platform.cc:51] failed call to cuInit: INTERNAL: CUDA error: Failed call to cuInit: UNKNOWN ERROR (303)\n"
     ]
    }
   ],
   "source": [
    "# 5. Set up ResNet50 \n",
    "base_50_64 = ResNet50(\n",
    "    include_top=False,\n",
    "    weights=\"imagenet\",\n",
    "    input_shape=(64, 64, 3)\n",
    ")\n",
    "\n",
    "x = base_50_64.output\n",
    "x = layers.GlobalAveragePooling2D()(x)\n",
    "x = layers.Dropout(0.3)(x)\n",
    "\n",
    "outputs = layers.Dense(8, activation=\"softmax\")(x)\n",
    "\n",
    "model_50_64 = Model(inputs=base_50_64.input, outputs=outputs)"
   ]
  },
  {
   "cell_type": "code",
   "execution_count": null,
   "id": "d721b997-fbe1-409e-b9a9-ef996ad622ae",
   "metadata": {},
   "outputs": [],
   "source": [
    "# 6. Compile model \n",
    "\n",
    "model_50_64.compile(\n",
    "    optimizer=Adam(learning_rate=1e-4),\n",
    "    loss=\"categorical_crossentropy\",       \n",
    "    metrics=[\n",
    "        \"accuracy\",\n",
    "        AUC(name=\"auc\", multi_label=True, num_labels=8)\n",
    "    ]\n",
    ")\n",
    "\n",
    "# 7. Train model, capture history for plotting\n",
    "history_50_64 = model_50_64.fit(\n",
    "    train_generator_64,\n",
    "    epochs=10,\n",
    "    validation_data=val_generator_64\n",
    ")"
   ]
  },
  {
   "cell_type": "code",
   "execution_count": 9,
   "id": "49b9aaa9-1c4f-40eb-91ac-3f2e43fe2efc",
   "metadata": {},
   "outputs": [
    {
     "name": "stderr",
     "output_type": "stream",
     "text": [
      "WARNING:absl:You are saving your model as an HDF5 file via `model.save()` or `keras.saving.save_model(model)`. This file format is considered legacy. We recommend using instead the native Keras format, e.g. `model.save('my_model.keras')` or `keras.saving.save_model(model, 'my_model.keras')`. \n"
     ]
    }
   ],
   "source": [
    "model_50_64.save('ResNet50_64.h5')\n",
    "model_50_64.save('ResNet50_64.keras')\n",
    "\n",
    "# to load:\n",
    "# from keras.models import load_model\n",
    "# model_101_64 = load_model('model_101_64.h5')\n",
    "# from tensorflow.keras.models import load_model\n",
    "# model_50_64 = load_model('model_50_64.keras', compile=Trye)"
   ]
  },
  {
   "cell_type": "code",
   "execution_count": 15,
   "id": "54802aba-32e1-4008-92a5-e8d401c5f64b",
   "metadata": {},
   "outputs": [],
   "source": [
    "from tensorflow.keras.models import load_model\n",
    "model_50_64 = load_model('model_output/ResNet50_64.keras', compile=True)"
   ]
  },
  {
   "cell_type": "code",
   "execution_count": 16,
   "id": "1e73be02-5acf-4006-9913-d2ec05e0fb75",
   "metadata": {},
   "outputs": [
    {
     "name": "stderr",
     "output_type": "stream",
     "text": [
      "/shared/home/tzj255/.local/lib/python3.12/site-packages/keras/src/trainers/data_adapters/py_dataset_adapter.py:121: UserWarning: Your `PyDataset` class should call `super().__init__(**kwargs)` in its constructor. `**kwargs` can include `workers`, `use_multiprocessing`, `max_queue_size`. Do not pass these arguments to `fit()`, as they will be ignored.\n",
      "  self._warn_if_super_not_called()\n"
     ]
    },
    {
     "name": "stdout",
     "output_type": "stream",
     "text": [
      "\u001b[1m107/107\u001b[0m \u001b[32m━━━━━━━━━━━━━━━━━━━━\u001b[0m\u001b[37m\u001b[0m \u001b[1m15s\u001b[0m 110ms/step - accuracy: 0.9747 - auc: 0.9969 - loss: 0.0917\n",
      "ResNet50 test accuracy for 64 pixels: 0.9775\n",
      "ResNet50 test AUC for 64 pixels:      0.9966\n"
     ]
    }
   ],
   "source": [
    "# 8. Evaluate model\n",
    "test_loss_50_64, test_acc_50_64, test_auc_50_64 = model_50_64.evaluate(test_generator_64)\n",
    "print(f\"ResNet50 test accuracy for 64 pixels: {test_acc_50_64:.4f}\")\n",
    "print(f\"ResNet50 test AUC for 64 pixels:      {test_auc_50_64:.4f}\")"
   ]
  },
  {
   "cell_type": "code",
   "execution_count": 17,
   "id": "82fa2bd4-dcc4-4e97-9909-a2a83128a7a6",
   "metadata": {},
   "outputs": [
    {
     "name": "stdout",
     "output_type": "stream",
     "text": [
      "\u001b[1m107/107\u001b[0m \u001b[32m━━━━━━━━━━━━━━━━━━━━\u001b[0m\u001b[37m\u001b[0m \u001b[1m14s\u001b[0m 122ms/step\n",
      "                      precision    recall  f1-score   support\n",
      "\n",
      "          neutrophil       0.97      0.99      0.98       244\n",
      "          eosinophil       0.99      1.00      1.00       624\n",
      "            basophil       0.99      0.97      0.98       311\n",
      "          lymphocyte       0.97      0.93      0.95       579\n",
      "            monocyte       0.99      0.97      0.98       243\n",
      "immature granulocyte       0.96      0.98      0.97       284\n",
      "        erythroblast       0.95      0.98      0.97       666\n",
      "            platelet       1.00      1.00      1.00       470\n",
      "\n",
      "            accuracy                           0.98      3421\n",
      "           macro avg       0.98      0.98      0.98      3421\n",
      "        weighted avg       0.98      0.98      0.98      3421\n",
      "\n"
     ]
    }
   ],
   "source": [
    "# 9. Precision, recall, f1-score\n",
    "y_prob_50_64 = model_50_64.predict(test_generator_64)\n",
    "y_pred_50_64 = np.argmax(y_prob_50_64, axis=1)\n",
    "y_true_64 = test_labels_64\n",
    "\n",
    "label_dict = {\n",
    "    \"0\": \"neutrophil\",\n",
    "    \"1\": \"eosinophil\",\n",
    "    \"2\": \"basophil\",\n",
    "    \"3\": \"lymphocyte\",\n",
    "    \"4\": \"monocyte\",\n",
    "    \"5\": \"immature granulocyte\",\n",
    "    \"6\": \"erythroblast\",\n",
    "    \"7\": \"platelet\"\n",
    "}\n",
    "\n",
    "class_names = [label_dict[str(i)] for i in range(8)]\n",
    "print(classification_report(y_true_64, y_pred_50_64, target_names=class_names))"
   ]
  },
  {
   "cell_type": "code",
   "execution_count": 18,
   "id": "f2322ecd-d07a-43f3-a1c7-502a56e96556",
   "metadata": {},
   "outputs": [
    {
     "name": "stdout",
     "output_type": "stream",
     "text": [
      "neutrophil           accuracy: 0.9918\n",
      "eosinophil           accuracy: 1.0000\n",
      "basophil             accuracy: 0.9743\n",
      "lymphocyte           accuracy: 0.9344\n",
      "monocyte             accuracy: 0.9671\n",
      "immature granulocyte accuracy: 0.9754\n",
      "erythroblast         accuracy: 0.9790\n",
      "platelet             accuracy: 1.0000\n"
     ]
    }
   ],
   "source": [
    "# 10. Performance per class\n",
    "cm_50_64 = confusion_matrix(y_true_64, y_pred_50_64)\n",
    "per_class_acc_50_64 = cm_50_64.diagonal() / cm_50_64.sum(axis=1)\n",
    "for i, acc in enumerate(per_class_acc_50_64):\n",
    "    print(f\"{class_names[i]:<20s} accuracy: {acc:.4f}\")"
   ]
  },
  {
   "cell_type": "code",
   "execution_count": null,
   "id": "6f78fd6a-b14b-45a5-b3c3-fd75bb110373",
   "metadata": {},
   "outputs": [],
   "source": [
    "# 11. Plot\n",
    "epochs = range(1, len(history_50_64.history['loss']) + 1)\n",
    "\n",
    "# accuracy\n",
    "plt.figure(figsize=(8, 5))\n",
    "plt.plot(epochs, history_50_64.history['accuracy'], label='Training Accuracy')\n",
    "plt.plot(epochs, history_50_64.history['val_accuracy'], label='Validation Accuracy')\n",
    "plt.title('ResNet50 (64x64) - Accuracy vs Epoch')\n",
    "plt.xlabel('Epoch')\n",
    "plt.ylabel('Accuracy')\n",
    "plt.legend()\n",
    "plt.grid(True)\n",
    "plt.tight_layout()\n",
    "plt.savefig(\"accuracy_plot_resnet50_64.png\")\n",
    "plt.show()\n",
    "\n",
    "# auc\n",
    "plt.figure(figsize=(8, 5))\n",
    "plt.plot(epochs, history_50_64.history['auc'], label='Training AUC')\n",
    "plt.plot(epochs, history_50_64.history['val_auc'], label='Validation AUC')\n",
    "plt.title('ResNet50 (64x64) - AUC vs Epoch')\n",
    "plt.xlabel('Epoch')\n",
    "plt.ylabel('AUC')\n",
    "plt.legend()\n",
    "plt.grid(True)\n",
    "plt.tight_layout()\n",
    "plt.savefig(\"auc_plot_resnet50_64.png\")\n",
    "plt.show()\n",
    "\n",
    "# loss\n",
    "plt.figure(figsize=(8, 5))\n",
    "plt.plot(epochs, history_50_64.history['loss'], label='Training Loss')\n",
    "plt.plot(epochs, history_50_64.history['val_loss'], label='Validation Loss')\n",
    "plt.title('ResNet50 (64x64) - Loss vs Epoch')\n",
    "plt.xlabel('Epoch')\n",
    "plt.ylabel('Loss')\n",
    "plt.legend()\n",
    "plt.grid(True)\n",
    "plt.tight_layout()\n",
    "plt.savefig(\"loss_plot_resnet50_64.png\")\n",
    "plt.show()"
   ]
  },
  {
   "cell_type": "markdown",
   "id": "f5657c6b-a8f9-4547-b182-1b54687f54fe",
   "metadata": {},
   "source": [
    "### ResNet101_64"
   ]
  },
  {
   "cell_type": "code",
   "execution_count": 20,
   "id": "6d72ec29-0aae-434d-8acb-52edd3cb1a54",
   "metadata": {},
   "outputs": [],
   "source": [
    "base_101_64 = ResNet101(\n",
    "    include_top=False,\n",
    "    weights=\"imagenet\",\n",
    "    input_shape=(64, 64, 3)\n",
    ")\n",
    "\n",
    "x = base_101_64.output\n",
    "x = layers.GlobalAveragePooling2D()(x)\n",
    "x = layers.Dropout(0.3)(x)\n",
    "\n",
    "outputs = layers.Dense(8, activation=\"softmax\")(x)\n",
    "\n",
    "model_101_64 = Model(inputs=base_101_64.input, outputs=outputs)"
   ]
  },
  {
   "cell_type": "code",
   "execution_count": 21,
   "id": "c5b208d5-2234-4020-b8ac-f3c9d2b57162",
   "metadata": {},
   "outputs": [],
   "source": [
    "# 6. Compile model\n",
    "model_101_64.compile(\n",
    "    optimizer=Adam(learning_rate=1e-4),\n",
    "    loss=\"categorical_crossentropy\",\n",
    "    metrics=[\"accuracy\", AUC(name=\"auc\", multi_label=True, num_labels=8)]\n",
    ")"
   ]
  },
  {
   "cell_type": "code",
   "execution_count": 22,
   "id": "f2ddfca5-1840-4833-8a9e-21568587a6a7",
   "metadata": {},
   "outputs": [
    {
     "name": "stdout",
     "output_type": "stream",
     "text": [
      "model_101_64\n",
      "Epoch 1/10\n"
     ]
    },
    {
     "name": "stderr",
     "output_type": "stream",
     "text": [
      "/shared/home/tzj255/.local/lib/python3.12/site-packages/keras/src/trainers/data_adapters/py_dataset_adapter.py:121: UserWarning: Your `PyDataset` class should call `super().__init__(**kwargs)` in its constructor. `**kwargs` can include `workers`, `use_multiprocessing`, `max_queue_size`. Do not pass these arguments to `fit()`, as they will be ignored.\n",
      "  self._warn_if_super_not_called()\n"
     ]
    },
    {
     "name": "stdout",
     "output_type": "stream",
     "text": [
      "\u001b[1m374/374\u001b[0m \u001b[32m━━━━━━━━━━━━━━━━━━━━\u001b[0m\u001b[37m\u001b[0m \u001b[1m962s\u001b[0m 2s/step - accuracy: 0.7789 - auc: 0.9427 - loss: 0.7148 - val_accuracy: 0.1373 - val_auc: 0.5000 - val_loss: 145.5909\n",
      "Epoch 2/10\n",
      "\u001b[1m374/374\u001b[0m \u001b[32m━━━━━━━━━━━━━━━━━━━━\u001b[0m\u001b[37m\u001b[0m \u001b[1m927s\u001b[0m 2s/step - accuracy: 0.9494 - auc: 0.9959 - loss: 0.1537 - val_accuracy: 0.1729 - val_auc: 0.7709 - val_loss: 2.9386\n",
      "Epoch 3/10\n",
      "\u001b[1m374/374\u001b[0m \u001b[32m━━━━━━━━━━━━━━━━━━━━\u001b[0m\u001b[37m\u001b[0m \u001b[1m928s\u001b[0m 2s/step - accuracy: 0.9681 - auc: 0.9980 - loss: 0.0945 - val_accuracy: 0.9492 - val_auc: 0.9970 - val_loss: 0.1609\n",
      "Epoch 4/10\n",
      "\u001b[1m374/374\u001b[0m \u001b[32m━━━━━━━━━━━━━━━━━━━━\u001b[0m\u001b[37m\u001b[0m \u001b[1m929s\u001b[0m 2s/step - accuracy: 0.9731 - auc: 0.9987 - loss: 0.0808 - val_accuracy: 0.9766 - val_auc: 0.9986 - val_loss: 0.0831\n",
      "Epoch 5/10\n",
      "\u001b[1m374/374\u001b[0m \u001b[32m━━━━━━━━━━━━━━━━━━━━\u001b[0m\u001b[37m\u001b[0m \u001b[1m929s\u001b[0m 2s/step - accuracy: 0.9780 - auc: 0.9987 - loss: 0.0672 - val_accuracy: 0.9492 - val_auc: 0.9946 - val_loss: 0.1511\n",
      "Epoch 6/10\n",
      "\u001b[1m374/374\u001b[0m \u001b[32m━━━━━━━━━━━━━━━━━━━━\u001b[0m\u001b[37m\u001b[0m \u001b[1m929s\u001b[0m 2s/step - accuracy: 0.9814 - auc: 0.9989 - loss: 0.0583 - val_accuracy: 0.9591 - val_auc: 0.9936 - val_loss: 0.1361\n",
      "Epoch 7/10\n",
      "\u001b[1m374/374\u001b[0m \u001b[32m━━━━━━━━━━━━━━━━━━━━\u001b[0m\u001b[37m\u001b[0m \u001b[1m928s\u001b[0m 2s/step - accuracy: 0.9842 - auc: 0.9990 - loss: 0.0480 - val_accuracy: 0.9725 - val_auc: 0.9977 - val_loss: 0.0896\n",
      "Epoch 8/10\n",
      "\u001b[1m374/374\u001b[0m \u001b[32m━━━━━━━━━━━━━━━━━━━━\u001b[0m\u001b[37m\u001b[0m \u001b[1m928s\u001b[0m 2s/step - accuracy: 0.9836 - auc: 0.9988 - loss: 0.0537 - val_accuracy: 0.9579 - val_auc: 0.9935 - val_loss: 0.1871\n",
      "Epoch 9/10\n",
      "\u001b[1m374/374\u001b[0m \u001b[32m━━━━━━━━━━━━━━━━━━━━\u001b[0m\u001b[37m\u001b[0m \u001b[1m928s\u001b[0m 2s/step - accuracy: 0.9855 - auc: 0.9991 - loss: 0.0458 - val_accuracy: 0.9696 - val_auc: 0.9925 - val_loss: 0.1862\n",
      "Epoch 10/10\n",
      "\u001b[1m374/374\u001b[0m \u001b[32m━━━━━━━━━━━━━━━━━━━━\u001b[0m\u001b[37m\u001b[0m \u001b[1m926s\u001b[0m 2s/step - accuracy: 0.9867 - auc: 0.9987 - loss: 0.0433 - val_accuracy: 0.9731 - val_auc: 0.9987 - val_loss: 0.0838\n"
     ]
    }
   ],
   "source": [
    "# 7. Train model\n",
    "print(\"model_101_64\")\n",
    "\n",
    "history_101_64 = model_101_64.fit(\n",
    "    train_generator_64,\n",
    "    epochs=10,\n",
    "    validation_data=val_generator_64\n",
    ")"
   ]
  },
  {
   "cell_type": "code",
   "execution_count": 35,
   "id": "eb25b07b-e704-47b9-9b0f-52e4b3e5054c",
   "metadata": {},
   "outputs": [
    {
     "name": "stderr",
     "output_type": "stream",
     "text": [
      "WARNING:absl:You are saving your model as an HDF5 file via `model.save()` or `keras.saving.save_model(model)`. This file format is considered legacy. We recommend using instead the native Keras format, e.g. `model.save('my_model.keras')` or `keras.saving.save_model(model, 'my_model.keras')`. \n"
     ]
    }
   ],
   "source": [
    "model_101_64.save('model_output/ResNet101_64.h5')\n",
    "model_101_64.save('model_output/ResNet101_64.keras')\n",
    "\n",
    "# to load:\n",
    "# from keras.models import load_model\n",
    "# model_101_64 = load_model('model_101_64.keras')\n",
    "\n",
    "# from tensorflow.keras.models import load_model\n",
    "# model_101_64 = load_model('model_101_64.h5', compile=True)"
   ]
  },
  {
   "cell_type": "code",
   "execution_count": 36,
   "id": "e9033175-c6b3-4d1c-8d65-e305a6086c6e",
   "metadata": {},
   "outputs": [
    {
     "data": {
      "text/plain": [
       "<keras.src.optimizers.adam.Adam at 0x14aa377767e0>"
      ]
     },
     "execution_count": 36,
     "metadata": {},
     "output_type": "execute_result"
    }
   ],
   "source": [
    "model_101_64.optimizer"
   ]
  },
  {
   "cell_type": "code",
   "execution_count": 24,
   "id": "a676ee33-6cba-4c79-8ecd-b8f9c0460033",
   "metadata": {},
   "outputs": [
    {
     "name": "stdout",
     "output_type": "stream",
     "text": [
      "\u001b[1m107/107\u001b[0m \u001b[32m━━━━━━━━━━━━━━━━━━━━\u001b[0m\u001b[37m\u001b[0m \u001b[1m22s\u001b[0m 210ms/step - accuracy: 0.9677 - auc: 0.9967 - loss: 0.0984\n",
      "ResNet101 test accuracy for 64 pixels: 0.9667\n",
      "ResNet101 test AUC for 64 pixels:      0.9965\n"
     ]
    }
   ],
   "source": [
    "# 8. Evaluate model\n",
    "test_loss_101_64, test_acc_101_64, test_auc_101_64 = model_101_64.evaluate(test_generator_64)\n",
    "print(f\"ResNet101 test accuracy for 64 pixels: {test_acc_101_64:.4f}\")\n",
    "print(f\"ResNet101 test AUC for 64 pixels:      {test_auc_101_64:.4f}\")"
   ]
  },
  {
   "cell_type": "code",
   "execution_count": 25,
   "id": "52010e7b-a172-4139-ac0d-707103fb96ae",
   "metadata": {},
   "outputs": [
    {
     "name": "stdout",
     "output_type": "stream",
     "text": [
      "\u001b[1m107/107\u001b[0m \u001b[32m━━━━━━━━━━━━━━━━━━━━\u001b[0m\u001b[37m\u001b[0m \u001b[1m28s\u001b[0m 234ms/step\n",
      "                      precision    recall  f1-score   support\n",
      "\n",
      "          neutrophil       0.92      0.99      0.96       244\n",
      "          eosinophil       1.00      1.00      1.00       624\n",
      "            basophil       0.99      0.98      0.98       311\n",
      "          lymphocyte       0.91      0.94      0.92       579\n",
      "            monocyte       0.99      0.93      0.96       243\n",
      "immature granulocyte       0.95      0.90      0.92       284\n",
      "        erythroblast       0.97      0.97      0.97       666\n",
      "            platelet       1.00      1.00      1.00       470\n",
      "\n",
      "            accuracy                           0.97      3421\n",
      "           macro avg       0.97      0.96      0.96      3421\n",
      "        weighted avg       0.97      0.97      0.97      3421\n",
      "\n"
     ]
    }
   ],
   "source": [
    "# 9. Classification report\n",
    "y_prob_101_64 = model_101_64.predict(test_generator_64)\n",
    "y_pred_101_64 = np.argmax(y_prob_101_64, axis=1)\n",
    "y_true_64 = test_labels_64\n",
    "\n",
    "label_dict = {\n",
    "    \"0\": \"neutrophil\",\n",
    "    \"1\": \"eosinophil\",\n",
    "    \"2\": \"basophil\",\n",
    "    \"3\": \"lymphocyte\",\n",
    "    \"4\": \"monocyte\",\n",
    "    \"5\": \"immature granulocyte\",\n",
    "    \"6\": \"erythroblast\",\n",
    "    \"7\": \"platelet\"\n",
    "}\n",
    "class_names = [label_dict[str(i)] for i in range(8)]\n",
    "print(classification_report(y_true_64, y_pred_101_64, target_names=class_names))"
   ]
  },
  {
   "cell_type": "code",
   "execution_count": 26,
   "id": "b656b3b4-e4cf-41d2-a748-64eb1c2b2bed",
   "metadata": {},
   "outputs": [
    {
     "name": "stdout",
     "output_type": "stream",
     "text": [
      "neutrophil           accuracy: 0.9918\n",
      "eosinophil           accuracy: 0.9968\n",
      "basophil             accuracy: 0.9807\n",
      "lymphocyte           accuracy: 0.9378\n",
      "monocyte             accuracy: 0.9342\n",
      "immature granulocyte accuracy: 0.9014\n",
      "erythroblast         accuracy: 0.9655\n",
      "platelet             accuracy: 0.9979\n"
     ]
    }
   ],
   "source": [
    "# 10. Per-class accuracy\n",
    "cm_101_64 = confusion_matrix(y_true_64, y_pred_101_64)\n",
    "per_class_acc_101_64 = cm_101_64.diagonal() / cm_101_64.sum(axis=1)\n",
    "for i, acc in enumerate(per_class_acc_101_64):\n",
    "    print(f\"{class_names[i]:<20s} accuracy: {acc:.4f}\")"
   ]
  },
  {
   "cell_type": "code",
   "execution_count": 27,
   "id": "0b4195fe-5b55-4d91-8445-5fe8b5bb982a",
   "metadata": {},
   "outputs": [
    {
     "data": {
      "image/png": "[encoded data removed]",
      "text/plain": [
       "<Figure size 800x500 with 1 Axes>"
      ]
     },
     "metadata": {},
     "output_type": "display_data"
    },
    {
     "data": {
      "image/png": "[encoded data removed]",
      "text/plain": [
       "<Figure size 800x500 with 1 Axes>"
      ]
     },
     "metadata": {},
     "output_type": "display_data"
    },
    {
     "data": {
      "image/png": "[encoded data removed]",
      "text/plain": [
       "<Figure size 800x500 with 1 Axes>"
      ]
     },
     "metadata": {},
     "output_type": "display_data"
    }
   ],
   "source": [
    "# 11. Plots\n",
    "epochs = range(1, len(history_101_64.history['loss']) + 1)\n",
    "\n",
    "# Accuracy plot\n",
    "plt.figure(figsize=(8, 5))\n",
    "plt.plot(epochs, history_101_64.history['accuracy'], label='Training Accuracy')\n",
    "plt.plot(epochs, history_101_64.history['val_accuracy'], label='Validation Accuracy')\n",
    "plt.title('ResNet101 (64x64) - Accuracy vs Epoch')\n",
    "plt.xlabel('Epoch')\n",
    "plt.ylabel('Accuracy')\n",
    "plt.legend()\n",
    "plt.grid(True)\n",
    "plt.tight_layout()\n",
    "plt.savefig(\"accuracy_plot_resnet101_64.png\")\n",
    "plt.show()\n",
    "\n",
    "# AUC plot\n",
    "plt.figure(figsize=(8, 5))\n",
    "plt.plot(epochs, history_101_64.history['auc'], label='Training AUC')\n",
    "plt.plot(epochs, history_101_64.history['val_auc'], label='Validation AUC')\n",
    "plt.title('ResNet101 (64x64) - AUC vs Epoch')\n",
    "plt.xlabel('Epoch')\n",
    "plt.ylabel('AUC')\n",
    "plt.legend()\n",
    "plt.grid(True)\n",
    "plt.tight_layout()\n",
    "plt.savefig(\"auc_plot_resnet101_64.png\")\n",
    "plt.show()\n",
    "\n",
    "# Loss plot\n",
    "plt.figure(figsize=(8, 5))\n",
    "plt.plot(epochs, history_101_64.history['loss'], label='Training Loss')\n",
    "plt.plot(epochs, history_101_64.history['val_loss'], label='Validation Loss')\n",
    "plt.title('ResNet101 (64x64) - Loss vs Epoch')\n",
    "plt.xlabel('Epoch')\n",
    "plt.ylabel('Loss')\n",
    "plt.legend()\n",
    "plt.grid(True)\n",
    "plt.tight_layout()\n",
    "plt.savefig(\"loss_plot_resnet101_64.png\")\n",
    "plt.show()"
   ]
  }
 ],
 "metadata": {
  "kernelspec": {
   "display_name": "Python (TF+MedMNIST)",
   "language": "python",
   "name": "tf_env"
  },
  "language_info": {
   "codemirror_mode": {
    "name": "ipython",
    "version": 3
   },
   "file_extension": ".py",
   "mimetype": "text/x-python",
   "name": "python",
   "nbconvert_exporter": "python",
   "pygments_lexer": "ipython3",
   "version": "3.12.2"
  }
 },
 "nbformat": 4,
 "nbformat_minor": 5
}
